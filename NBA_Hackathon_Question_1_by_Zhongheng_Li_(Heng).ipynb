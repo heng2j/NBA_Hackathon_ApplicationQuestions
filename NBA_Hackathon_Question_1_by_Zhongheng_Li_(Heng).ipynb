{
 "cells": [
  {
   "cell_type": "markdown",
   "metadata": {},
   "source": [
    "# NBA Hackathon New York City Appication\n",
    "## By  Zhongheng Li - heng2j@nyu.edu \n",
    "\n",
    "\n",
    "\n"
   ]
  },
  {
   "cell_type": "markdown",
   "metadata": {},
   "source": [
    "## 1) REQUIRED: After the Golden State Warriors acquired former MVP Kevin Durant in 2016, some NBA fans speculated that the Warriors would not lose consecutive games at any point of the season.*\n",
    "\n",
    "### a) If you wanted to determine the probability that this prediction would be true (i.e., that the Warriors would never lose consecutive games at any point during an 82-game season), what is one approach (or a few approaches) you may use to solve the problem? What answer do you get? Exact answers are of course welcome, but approaches that lead to approximations (and those approximations) are fine, too (please specify the precision of your estimate). Assume the Warriors have an 80% chance of winning each individual game."
   ]
  },
  {
   "cell_type": "markdown",
   "metadata": {},
   "source": [
    "We can invalidate the prediction by showing the probability of at least one pair of losing games. If we pair them up, there are total of 41 possible pairs in the 82 games. Which means, if the Warriors loses more than 41 games in an 82-game season, it is inevitably to have at least one pair of losing games. \n",
    "\n",
    "If we sum up the probability of possible loosing strikes for the Warriors, if the probability is greater than 0, then we can invalid the prediction that the Warriors would never lose consecutive games at any point during an 82-game season. \n",
    "\n",
    "\n",
    "\n",
    "Since there are only 2 outcomes, win or lose, and we have the pobability of lossing, 0.2 ( As 1 - p in our formula). And winning, 0.8 as the P. We can using Negative Binomial Distributions to solve this problem, and therefore we will take lossing probability 0.2 as our success. \n",
    "\n",
    "\n",
    "f(x)=P(X=x)=(x−1 C r−1)*(p)**(x −r) * (1-p)**r"
   ]
  },
  {
   "cell_type": "code",
   "execution_count": 395,
   "metadata": {},
   "outputs": [
    {
     "name": "stdout",
     "output_type": "stream",
     "text": [
      "The sum of probability of not having loosing strikes is 5.882%\n",
      "Therefore, the probability having loosing strikes is 94.118%\n"
     ]
    }
   ],
   "source": [
    "from scipy.special import comb\n",
    "\n",
    "result = 0\n",
    "\n",
    "for i in range(0,41):\n",
    "    result = result + comb( 83 - i , i, exact=True)*(0.2)**i * (0.8)** (82 - i)  \n",
    "\n",
    "print( \"The sum of probability of not having loosing strikes is {:.3%}\".format(result) )\n",
    "print( \"Therefore, the probability having loosing strikes is {:.3%}\".format( 1 - result) )"
   ]
  },
  {
   "cell_type": "markdown",
   "metadata": {},
   "source": [
    "### b) So, would you have agreed with that hypothesis?"
   ]
  },
  {
   "cell_type": "markdown",
   "metadata": {},
   "source": [
    "I do not agree with the hypothesis since we have shown above that the even the Worries's winning probability is 80% for any individual game. but they still has more than 94% to lose 2 games in a row at anytime during the 82-games season. And the hypothesis is based on the winning percentage is independent for Warriors to win each individual game. With conditional probabilistic thinking, this can't hold true for the entire season. One of the criticle conditions for this hypothesis is if Kevin Durant is active for the individual game. The probability of players are getting injured. And the reevaluated probabilities of winning if certain player in the team is not playing the game (For example, KD, Curry, Klay or Draymond) will need to be considerated. And after the 16-17 season. We will also need to include the winning probability if head coach (Steve Kerr) is not active. \n"
   ]
  },
  {
   "cell_type": "markdown",
   "metadata": {},
   "source": [
    "### c) Finally, at least what % of a team's games would a team need to be expected to win (assuming that win probability stays constant from game to game) for there to be a greater than 50% chance that the team never suffers consecutive losses at any point in the season?"
   ]
  },
  {
   "cell_type": "code",
   "execution_count": 417,
   "metadata": {
    "collapsed": true
   },
   "outputs": [],
   "source": [
    "def getNoLoosingStrikeProb(x):\n",
    "    result = 0\n",
    "    for i in range(0,41):\n",
    "        result = result + comb( 83 - i , i, exact=True)*(1 - x)**i * (x)** (82 - i)  \n",
    "    \n",
    "    return result"
   ]
  },
  {
   "cell_type": "code",
   "execution_count": 418,
   "metadata": {},
   "outputs": [
    {
     "data": {
      "text/plain": [
       "0.05881686441392617"
      ]
     },
     "execution_count": 418,
     "metadata": {},
     "output_type": "execute_result"
    }
   ],
   "source": [
    "getNoLoosingStrikeProb(0.8)"
   ]
  },
  {
   "cell_type": "code",
   "execution_count": 485,
   "metadata": {
    "collapsed": true
   },
   "outputs": [],
   "source": [
    "import numpy as np\n",
    "\n",
    "\n",
    "winningProb = []\n",
    "noLoosingStrikeProb = []\n",
    "results = []\n",
    "\n",
    "\n",
    "for i in np.arange(0.8,0.99,0.005):\n",
    "    \n",
    "    tempResult = getNoLoosingStrikeProb(i)\n",
    "    \n",
    "    winningProb.append(i)\n",
    "    noLoosingStrikeProb.append(tempResult)\n",
    "    \n",
    "    if(tempResult > 0.5):\n",
    "        results.append(i)\n"
   ]
  },
  {
   "cell_type": "code",
   "execution_count": 499,
   "metadata": {},
   "outputs": [
    {
     "name": "stdout",
     "output_type": "stream",
     "text": [
      "0.905\n"
     ]
    }
   ],
   "source": [
    "result = min(results)\n",
    "print(result)"
   ]
  },
  {
   "cell_type": "code",
   "execution_count": 506,
   "metadata": {
    "scrolled": true
   },
   "outputs": [
    {
     "data": {
      "image/png": "[encoded data removed]",
      "text/plain": [
       "<matplotlib.figure.Figure at 0x11bfdeb38>"
      ]
     },
     "metadata": {},
     "output_type": "display_data"
    },
    {
     "name": "stdout",
     "output_type": "stream",
     "text": [
      "With at least 90.5% of winning percentage\n",
      "then the Worriors will have the probability of 0.508555 for not lose 2 games in a row at anytime during the 82-games season.  \n"
     ]
    }
   ],
   "source": [
    "import numpy as np\n",
    "import matplotlib.pyplot as plt\n",
    "from scipy.optimize import fsolve\n",
    "\n",
    "\n",
    "winningProb = np.arange(0.8,0.99,0.005)\n",
    "\n",
    "plt.plot(winningProb, noLoosingStrikeProb)\n",
    "plt.xlabel(\"Winning Prob\")\n",
    "plt.ylabel(\"No Loosing Strike Prob\")\n",
    "plt.axhline(y=0.5, label='0.5', color='r', linestyle='-', )\n",
    "plt.grid()\n",
    "plt.show()\n",
    "\n",
    "\n",
    "\n",
    "print (\"With at least %s of winning percentage\" %  \"{:.1%}\".format(result))\n",
    "print (\"then the Worriors will have the probability of %f for not lose 2 games in a row at anytime during the 82-games season.  \" % getNoLoosingStrikeProb(result))"
   ]
  },
  {
   "cell_type": "markdown",
   "metadata": {},
   "source": [
    "Beside Negative Binomial Distributions, the other approaches can be using naive bayes since the winning percentage was assummed to be independent "
   ]
  },
  {
   "cell_type": "code",
   "execution_count": null,
   "metadata": {
    "collapsed": true
   },
   "outputs": [],
   "source": []
  }
 ],
 "metadata": {
  "kernelspec": {
   "display_name": "Python 3",
   "language": "python",
   "name": "python3"
  },
  "language_info": {
   "codemirror_mode": {
    "name": "ipython",
    "version": 3
   },
   "file_extension": ".py",
   "mimetype": "text/x-python",
   "name": "python",
   "nbconvert_exporter": "python",
   "pygments_lexer": "ipython3",
   "version": "3.6.1"
  }
 },
 "nbformat": 4,
 "nbformat_minor": 2
}
